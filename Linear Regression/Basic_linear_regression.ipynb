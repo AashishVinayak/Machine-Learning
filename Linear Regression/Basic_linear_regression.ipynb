{
 "cells": [
  {
   "cell_type": "code",
   "execution_count": 15,
   "metadata": {},
   "outputs": [],
   "source": [
    "'''\n",
    "linear regression model using gradient descent\n",
    "L2 regularisation\n",
    "Dataset used: assignment 1 of coursera ml course\n",
    "'''\n",
    "\n",
    "import numpy as np\n",
    "import matplotlib.pyplot as plt\n",
    "import pandas as pd"
   ]
  },
  {
   "cell_type": "code",
   "execution_count": 16,
   "metadata": {},
   "outputs": [],
   "source": [
    "# loading the dataset\n",
    "file = pd.read_csv(\"https://raw.githubusercontent.com/yhyap/machine-learning-coursera/master/mlclass-ex1/ex1data1.txt\")\n",
    "data = pd.DataFrame(file)"
   ]
  },
  {
   "cell_type": "code",
   "execution_count": 17,
   "metadata": {},
   "outputs": [],
   "source": [
    "# training set preparation\n",
    "X_train = np.array(data)[:, 0:1]\n",
    "y_train = np.array(data)[:, 1]\n",
    "m_train = y_train.size\n",
    "y_train = y_train.reshape(m_train, 1)"
   ]
  },
  {
   "cell_type": "code",
   "execution_count": 18,
   "metadata": {},
   "outputs": [],
   "source": [
    "# initialising\n",
    "theta = np.zeros([2,1], dtype = float)\n",
    "X_train_input = np.append(np.ones([m_train, 1], dtype=float), X_train, axis=1)\n",
    "alpha = 0.01                                   # learning rate\n"
   ]
  },
  {
   "cell_type": "code",
   "execution_count": 19,
   "metadata": {},
   "outputs": [],
   "source": [
    "# gradient descent\n",
    "for i in range(6500):\n",
    "    h = X_train_input.dot(theta)\n",
    "    error = h - y_train\n",
    "    theta = theta - (alpha/m_train) * np.sum(np.dot(X_train_input.T, error)) + (3.0/m_train)*np.sum(np.square(theta[1:, 0]))\n"
   ]
  },
  {
   "cell_type": "code",
   "execution_count": 20,
   "metadata": {},
   "outputs": [],
   "source": [
    "# predictions\n",
    "predictions = np.array(np.dot(X_train_input, theta))"
   ]
  },
  {
   "cell_type": "code",
   "execution_count": 21,
   "metadata": {},
   "outputs": [
    {
     "name": "stdout",
     "output_type": "stream",
     "text": [
      "the weights are:\n",
      "[[ 0.72828058]\n",
      " [ 0.72828058]]\n"
     ]
    }
   ],
   "source": [
    "print(\"the weights are:\")\n",
    "print(theta)"
   ]
  },
  {
   "cell_type": "code",
   "execution_count": 22,
   "metadata": {},
   "outputs": [
    {
     "data": {
      "image/png": "[encoded data removed]",
      "text/plain": [
       "<matplotlib.figure.Figure at 0x25be02a1320>"
      ]
     },
     "metadata": {},
     "output_type": "display_data"
    }
   ],
   "source": [
    "plt.plot(X_train[:, 0], y_train, 'xr')\n",
    "plt.plot(X_train, np.dot(X_train_input, theta))\n",
    "plt.show()"
   ]
  }
 ],
 "metadata": {
  "kernelspec": {
   "display_name": "Python 3",
   "language": "python",
   "name": "python3"
  },
  "language_info": {
   "codemirror_mode": {
    "name": "ipython",
    "version": 3
   },
   "file_extension": ".py",
   "mimetype": "text/x-python",
   "name": "python",
   "nbconvert_exporter": "python",
   "pygments_lexer": "ipython3",
   "version": "3.6.3"
  }
 },
 "nbformat": 4,
 "nbformat_minor": 2
}
