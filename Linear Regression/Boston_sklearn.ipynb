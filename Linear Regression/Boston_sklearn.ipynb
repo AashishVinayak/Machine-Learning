{
 "cells": [
  {
   "cell_type": "code",
   "execution_count": 62,
   "metadata": {},
   "outputs": [],
   "source": [
    "# importing dependencies\n",
    "import pandas as pd\n",
    "import numpy as np\n",
    "from sklearn import linear_model\n",
    "from sklearn import metrics\n",
    "from sklearn.datasets import load_boston\n",
    "from sklearn.model_selection import train_test_split"
   ]
  },
  {
   "cell_type": "code",
   "execution_count": 41,
   "metadata": {},
   "outputs": [
    {
     "name": "stdout",
     "output_type": "stream",
     "text": [
      "input_data shape: (506, 13)\n",
      "label output shape: (506, 1)\n"
     ]
    }
   ],
   "source": [
    "# loading the boston housing prices dataset\n",
    "boston = load_boston()\n",
    "# training data\n",
    "input_data = np.array(boston.data)\n",
    "# label output\n",
    "label = np.array(boston.target)\n",
    "label =label.reshape(506, 1)\n",
    "\n",
    "# shapes of training set and output label\n",
    "print(\"input_data shape: \" + str(input_data.shape))\n",
    "print(\"label output shape: \" + str(label.shape))"
   ]
  },
  {
   "cell_type": "code",
   "execution_count": 52,
   "metadata": {},
   "outputs": [
    {
     "name": "stdout",
     "output_type": "stream",
     "text": [
      "      CRIM    ZN  INDUS  CHAS    NOX     RM   AGE     DIS  RAD    TAX  \\\n",
      "0  0.00632  18.0   2.31   0.0  0.538  6.575  65.2  4.0900  1.0  296.0   \n",
      "1  0.02731   0.0   7.07   0.0  0.469  6.421  78.9  4.9671  2.0  242.0   \n",
      "2  0.02729   0.0   7.07   0.0  0.469  7.185  61.1  4.9671  2.0  242.0   \n",
      "3  0.03237   0.0   2.18   0.0  0.458  6.998  45.8  6.0622  3.0  222.0   \n",
      "4  0.06905   0.0   2.18   0.0  0.458  7.147  54.2  6.0622  3.0  222.0   \n",
      "\n",
      "   PTRATIO       B  LSTAT  \n",
      "0     15.3  396.90   4.98  \n",
      "1     17.8  396.90   9.14  \n",
      "2     17.8  392.83   4.03  \n",
      "3     18.7  394.63   2.94  \n",
      "4     18.7  396.90   5.33  \n"
     ]
    }
   ],
   "source": [
    "# description of data\n",
    "bost = pd.DataFrame(boston.data)\n",
    "bost.columns = boston.feature_names\n",
    "print(bost.head())"
   ]
  },
  {
   "cell_type": "code",
   "execution_count": 77,
   "metadata": {},
   "outputs": [
    {
     "name": "stdout",
     "output_type": "stream",
     "text": [
      "training set size: \n",
      "\n",
      "x_train: (404, 13)\n",
      "y_train: (404, 1)\n",
      "\n",
      "test set size: \n",
      "\n",
      "x_test: (102, 13)\n",
      "y_test: (102, 1)\n"
     ]
    }
   ],
   "source": [
    "# splitting the dataset\n",
    "x_train, x_test, y_train, y_test = train_test_split(input_data, label, test_size = 0.2)\n",
    "\n",
    "print(\"training set size: \\n\")\n",
    "print(\"x_train: \" + str(x_train.shape))\n",
    "print(\"y_train: \" + str(y_train.shape))\n",
    "\n",
    "print(\"\\ntest set size: \\n\")\n",
    "print(\"x_test: \" + str(x_test.shape))\n",
    "print(\"y_test: \" + str(y_test.shape))"
   ]
  },
  {
   "cell_type": "code",
   "execution_count": 78,
   "metadata": {},
   "outputs": [],
   "source": [
    "# fitting the dataset using sklearn linear regression\n",
    "model = linear_model.LinearRegression()\n",
    "fitting = model.fit(x_train, y_train)\n",
    "prediction = model.predict(x_test)"
   ]
  },
  {
   "cell_type": "code",
   "execution_count": 82,
   "metadata": {},
   "outputs": [
    {
     "name": "stdout",
     "output_type": "stream",
     "text": [
      "accuracy: 0.67656993789\n"
     ]
    }
   ],
   "source": [
    "print(\"accuracy: \" + str(model.score(x_test, y_test)))"
   ]
  }
 ],
 "metadata": {
  "kernelspec": {
   "display_name": "Python 3",
   "language": "python",
   "name": "python3"
  },
  "language_info": {
   "codemirror_mode": {
    "name": "ipython",
    "version": 3
   },
   "file_extension": ".py",
   "mimetype": "text/x-python",
   "name": "python",
   "nbconvert_exporter": "python",
   "pygments_lexer": "ipython3",
   "version": "3.6.3"
  }
 },
 "nbformat": 4,
 "nbformat_minor": 2
}
