{
 "cells": [
  {
   "cell_type": "code",
   "execution_count": 156,
   "metadata": {},
   "outputs": [],
   "source": [
    "'''\n",
    "    Name: AASHISH KUMAR SAHU\n",
    "    Dataset: Titanic-Machine Learning from Disaster\n",
    "    Model: Logistic Regression\n",
    "    Objective: predicting the survival of passengers\n",
    "'''\n",
    "\n",
    "# dependencies\n",
    "import numpy as np\n",
    "import pandas as pd\n",
    "import matplotlib.pyplot as plt "
   ]
  },
  {
   "cell_type": "code",
   "execution_count": 157,
   "metadata": {},
   "outputs": [],
   "source": [
    "def sigmoid(z):\n",
    "    return 1/(1 + np.exp(-z))"
   ]
  },
  {
   "cell_type": "code",
   "execution_count": 158,
   "metadata": {},
   "outputs": [
    {
     "name": "stdout",
     "output_type": "stream",
     "text": [
      "trainig data:(891, 5)\n",
      "\n",
      "[[  3.       1.      22.       7.25     1.    ]\n",
      " [  1.       0.      38.      71.2833   1.    ]\n",
      " [  3.       0.      26.       7.925    0.    ]\n",
      " ..., \n",
      " [  3.       0.      24.      23.45     3.    ]\n",
      " [  1.       1.      26.      30.       0.    ]\n",
      " [  3.       1.      32.       7.75     0.    ]]\n"
     ]
    }
   ],
   "source": [
    "'''\n",
    "training Data preprocessing: \n",
    "1. The column Cabin was dropped since it has a lot of missing values\n",
    "2. the missing values of age feature were filled using the mean of all ages within the dataset\n",
    "'''\n",
    "\n",
    "# importing train.csv\n",
    "file = pd.read_csv(\"train.csv\")\n",
    "data = pd.DataFrame(file)\n",
    "\n",
    "# creating new features \n",
    "# 1. family size\n",
    "data[\"familysize\"] = data['Parch'] + data['SibSp']\n",
    "\n",
    "# 2. fare per person\n",
    "data[\"fare_per_person\"] = data['Fare']/(data['familysize']+1)\n",
    "\n",
    "# shuffling the dataset\n",
    "data.sample(frac=1)\n",
    "\n",
    "# making numpy arrays of training and output data\n",
    "train_data = np.array(data[['Pclass', 'gender_int', 'Age', 'Fare', 'familysize']])\n",
    "label = np.array(data['Survived'])\n",
    "\n",
    "# m = no. of training examples\n",
    "m = np.size(label)\n",
    "print(\"trainig data:\" + str(train_data.shape) + \"\\n\")\n",
    "print(train_data)"
   ]
  },
  {
   "cell_type": "code",
   "execution_count": 159,
   "metadata": {},
   "outputs": [
    {
     "name": "stdout",
     "output_type": "stream",
     "text": [
      "dataset after feature scaling\n",
      "[[ 3.          1.          0.27117366  0.01415106  1.        ]\n",
      " [ 1.          0.          0.4722292   0.13913574  1.        ]\n",
      " [ 3.          0.          0.32143755  0.01546857  0.        ]\n",
      " ..., \n",
      " [ 3.          0.          0.2963056   0.04577135  3.        ]\n",
      " [ 1.          1.          0.32143755  0.0585561   0.        ]\n",
      " [ 3.          1.          0.39683338  0.01512699  0.        ]]\n"
     ]
    }
   ],
   "source": [
    "# scaling the age feature\n",
    "age_norm = (train_data[:, 2] - np.min(train_data[:, 2]))/(np.max(train_data[:, 2]) - np.min(train_data[:, 2]))\n",
    "\n",
    "# scaling the fare feature\n",
    "fare_norm = (train_data[:, 3] - np.min(train_data[:, 3]))/(np.max(train_data[:, 3]) - np.min(train_data[:, 3]))\n",
    "\n",
    "train_data[:, 2] = age_norm\n",
    "train_data[:, 3] = fare_norm\n",
    "print(\"dataset after feature scaling\")\n",
    "print(train_data)"
   ]
  },
  {
   "cell_type": "code",
   "execution_count": 160,
   "metadata": {
    "scrolled": true
   },
   "outputs": [],
   "source": [
    "# initialising weights\n",
    "w = np.zeros(6).reshape(6,1)\n",
    "\n",
    "# alpha = learning rate\n",
    "alpha = 0.001\n",
    "\n",
    "# Lambda = regularisation parameter\n",
    "Lambda = 0.001\n",
    "\n",
    "# appending ones vector to the training data which is the intercept or the constant term \n",
    "x_new = np.append(np.ones([m, 1], dtype=float), train_data, axis=1)\n",
    "label = label.reshape(m, 1)"
   ]
  },
  {
   "cell_type": "code",
   "execution_count": 161,
   "metadata": {},
   "outputs": [
    {
     "name": "stdout",
     "output_type": "stream",
     "text": [
      "cost after convergence: 0.469226137423\n"
     ]
    },
    {
     "data": {
      "image/png": "[encoded data removed]",
      "text/plain": [
       "<matplotlib.figure.Figure at 0x20540553630>"
      ]
     },
     "metadata": {},
     "output_type": "display_data"
    }
   ],
   "source": [
    "# lists for storing costs and no. of iterations\n",
    "j_list = []\n",
    "it = []\n",
    "\n",
    "# gradient descent\n",
    "for i in range(90000):\n",
    "    # calculating hypothesis function\n",
    "    h = sigmoid(np.dot(x_new, w))\n",
    "    \n",
    "    # gradient step\n",
    "    w[0] = w[0] - (alpha/m) * np.dot(x_new[:, 0].T, (h-label))\n",
    "    w[1:7] = w[1:7] - (alpha/m) * np.dot(x_new[:, 1:7].T, (h-label)) + (Lambda/m) * w[1:7]\n",
    "    \n",
    "    # cost calculation\n",
    "    j = -(1/m) * np.sum(np.dot(label.T, np.log(h)) + np.dot((1-label.T), np.log(1-h)))\n",
    "    \n",
    "    j_list.append(j)\n",
    "    it.append(i)\n",
    "\n",
    "print(\"cost after convergence: \" + str(j))\n",
    "  \n",
    "# potting the cost vs iterations plot\n",
    "plt.plot(it,j_list, '-')\n",
    "plt.xlabel(\"no. of iterations\")\n",
    "plt.ylabel(\"Cost\")\n",
    "plt.show()"
   ]
  },
  {
   "cell_type": "code",
   "execution_count": 179,
   "metadata": {},
   "outputs": [
    {
     "name": "stdout",
     "output_type": "stream",
     "text": [
      "Accuracy on training set: 80.70%\n"
     ]
    }
   ],
   "source": [
    "# predictions after training the dataset\n",
    "h_p = sigmoid(np.dot(x_new, w))\n",
    "\n",
    "# according to the data only 38% of the total passengers survived, therefore, the threshold \n",
    "# for survival should be higher because passengers with probablity less then 0.6 didn't survive\n",
    "# classification for threshold = 0.6\n",
    "p = np.zeros([m, 1])\n",
    "for i in range(m):\n",
    "    if h_p[i] >= 0.6:\n",
    "        p[i] = 1\n",
    "\n",
    "# accuracy calculation\n",
    "Sum = 0\n",
    "for i in range(m):\n",
    "    if p[i] == label[i]:\n",
    "        Sum+=1\n",
    "        \n",
    "accuracy = (Sum / m) * 100\n",
    "print(\"Accuracy on training set: \", end = \"\")\n",
    "print(\"%.2f\" % accuracy, end = \"\")\n",
    "print(\"%\")\n",
    "\n",
    "########################################### THE END  ##########################################  "
   ]
  }
 ],
 "metadata": {
  "kernelspec": {
   "display_name": "Python 3",
   "language": "python",
   "name": "python3"
  },
  "language_info": {
   "codemirror_mode": {
    "name": "ipython",
    "version": 3
   },
   "file_extension": ".py",
   "mimetype": "text/x-python",
   "name": "python",
   "nbconvert_exporter": "python",
   "pygments_lexer": "ipython3",
   "version": "3.6.3"
  }
 },
 "nbformat": 4,
 "nbformat_minor": 2
}
