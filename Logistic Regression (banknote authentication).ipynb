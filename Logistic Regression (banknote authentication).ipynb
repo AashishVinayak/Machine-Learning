{
 "cells": [
  {
   "cell_type": "code",
   "execution_count": 181,
   "metadata": {},
   "outputs": [],
   "source": [
    "# importing dependencies\n",
    "import pandas as pd\n",
    "import numpy as np\n",
    "import matplotlib.pyplot as plt"
   ]
  },
  {
   "cell_type": "code",
   "execution_count": 182,
   "metadata": {},
   "outputs": [],
   "source": [
    "# sigmoid function\n",
    "def sigmoid(x):\n",
    "    return (1/(1+np.exp(-x)))"
   ]
  },
  {
   "cell_type": "code",
   "execution_count": 183,
   "metadata": {},
   "outputs": [
    {
     "name": "stdout",
     "output_type": "stream",
     "text": [
      "   variance  skewness  curtosis   entropy  label\n",
      "0    4.0962   10.1891   -3.93230 -4.18270      0\n",
      "1    4.2756   -2.6528    2.13750  0.94437      0\n",
      "2    0.5195   -3.2633    3.08950 -0.98490      0\n",
      "3    4.0552   -2.4583    2.28060  1.03230      0\n",
      "4   -2.4473   12.6247    0.73573 -7.66120      0\n"
     ]
    }
   ],
   "source": [
    "'''\n",
    "banknote authentication using logistic regression\n",
    "\n",
    "Attribute Information:\n",
    "\n",
    "1. variance of Wavelet Transformed image (continuous)\n",
    "2. skewness of Wavelet Transformed image (continuous)\n",
    "3. curtosis of Wavelet Transformed image (continuous)\n",
    "4. entropy of image (continuous)\n",
    "5. class (integer) \n",
    "'''\n",
    "data = pd.DataFrame(pd.read_csv(\"banknote.csv\"))\n",
    "data = data.sample(frac=1).reset_index(drop=True)\n",
    "print(data.head())"
   ]
  },
  {
   "cell_type": "code",
   "execution_count": 184,
   "metadata": {},
   "outputs": [
    {
     "name": "stdout",
     "output_type": "stream",
     "text": [
      "training set size: \n",
      "\n",
      "x_train: (1372, 4)\n",
      "y_train: (1372, 1)\n"
     ]
    }
   ],
   "source": [
    "# preparing training set\n",
    "X_train = np.array(data)[:, 0:4]\n",
    "y_train = np.array(data)[:, 4]\n",
    "y_train = y_train.reshape(1372, 1)\n",
    "# dimensions\n",
    "print(\"training set size: \\n\")\n",
    "print(\"x_train: \" + str(X_train.shape))\n",
    "print(\"y_train: \" + str(y_train.shape))"
   ]
  },
  {
   "cell_type": "code",
   "execution_count": 185,
   "metadata": {},
   "outputs": [
    {
     "name": "stdout",
     "output_type": "stream",
     "text": [
      "weight shape: (5, 1)\n",
      "X_bias shape:(1372, 5)\n"
     ]
    }
   ],
   "source": [
    "# useful variables\n",
    "iter_l = []\n",
    "cost_l = []\n",
    "alpha = 0.001\n",
    "\n",
    "# length of dataset\n",
    "m_train = y_train.size\n",
    "\n",
    "# weights\n",
    "w = np.zeros([5,1], dtype=float)\n",
    "print(\"weight shape: \" + str(w.shape))\n",
    "# adding ones vector in the dataset\n",
    "X_bias = np.append(np.ones([m_train, 1], dtype=float),X_train, axis=1)\n",
    "print(\"X_bias shape:\" + str(X_bias.shape))"
   ]
  },
  {
   "cell_type": "code",
   "execution_count": 186,
   "metadata": {},
   "outputs": [],
   "source": [
    "#######################   NEEDS DEBUGGING   ######################\n",
    "\n",
    "# gradient descent\n",
    "for i in range(2000):\n",
    "    # calculating hypothesis(h)\n",
    "    h = sigmoid(np.dot(X_bias, w))\n",
    "    # gradient step\n",
    "    w = w - (alpha/m_train) * np.sum(h - y_train)\n",
    "    # cost calculation\n",
    "    j = 1/(2*m_train) * np.sum((h-y_train)**2)\n",
    "    iter_l.append(i)\n",
    "    cost_l.append(j)"
   ]
  },
  {
   "cell_type": "code",
   "execution_count": 187,
   "metadata": {},
   "outputs": [],
   "source": [
    "# test set prediction\n",
    "h_train = sigmoid(np.dot(X_bias, w))\n",
    "\n",
    "# prediction class (prediction is a zeros array)\n",
    "prediction = np.zeros([m_train, 1], dtype=float)\n",
    "m_test\n",
    "# prediction\n",
    "for i in range(m_train):\n",
    "    if h_train[i] >=0.5:\n",
    "        prediction[i] = 1"
   ]
  },
  {
   "cell_type": "code",
   "execution_count": 190,
   "metadata": {},
   "outputs": [
    {
     "name": "stdout",
     "output_type": "stream",
     "text": [
      "0\n",
      "accuracy: 0.0\n"
     ]
    }
   ],
   "source": [
    "# metrics\n",
    "truPN = 0\n",
    "for i in range(m_train):\n",
    "    if prediction[i] == y_train[i]:\n",
    "        truPN += 0\n",
    "        \n",
    "print(\"accuracy: \" + str((truPN/m_train)*100))"
   ]
  },
  {
   "cell_type": "code",
   "execution_count": 189,
   "metadata": {},
   "outputs": [
    {
     "data": {
      "image/png": "[encoded data removed]",
      "text/plain": [
       "<matplotlib.figure.Figure at 0x2a77a622940>"
      ]
     },
     "metadata": {},
     "output_type": "display_data"
    }
   ],
   "source": [
    "# plotting the learning curve\n",
    "plt.plot(cost_l, iter_l, '-')\n",
    "plt.xlabel(\"iterations\")\n",
    "plt.ylabel(\"cost\")\n",
    "plt.show()"
   ]
  }
 ],
 "metadata": {
  "kernelspec": {
   "display_name": "Python 3",
   "language": "python",
   "name": "python3"
  },
  "language_info": {
   "codemirror_mode": {
    "name": "ipython",
    "version": 3
   },
   "file_extension": ".py",
   "mimetype": "text/x-python",
   "name": "python",
   "nbconvert_exporter": "python",
   "pygments_lexer": "ipython3",
   "version": "3.6.3"
  }
 },
 "nbformat": 4,
 "nbformat_minor": 2
}
