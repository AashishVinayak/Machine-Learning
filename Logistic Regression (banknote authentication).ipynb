{
 "cells": [
  {
   "cell_type": "code",
   "execution_count": 46,
   "metadata": {},
   "outputs": [],
   "source": [
    "# importing dependencies\n",
    "import pandas as pd\n",
    "import numpy as np\n",
    "import matplotlib.pyplot as plt"
   ]
  },
  {
   "cell_type": "code",
   "execution_count": 62,
   "metadata": {},
   "outputs": [],
   "source": [
    "# sigmoid function\n",
    "def sigmoid(x):\n",
    "    return (1/(1+np.exp(-x)))"
   ]
  },
  {
   "cell_type": "code",
   "execution_count": 12,
   "metadata": {},
   "outputs": [
    {
     "name": "stdout",
     "output_type": "stream",
     "text": [
      "   variance  skewness  curtosis   entropy  label\n",
      "0   3.62160    8.6661    -2.8073 -0.44699      0\n",
      "1   4.54590    8.1674    -2.4586 -1.46210      0\n",
      "2   3.86600   -2.6383     1.9242  0.10645      0\n",
      "3   3.45660    9.5228    -4.0112 -3.59440      0\n",
      "4   0.32924   -4.4552     4.5718 -0.98880      0\n"
     ]
    }
   ],
   "source": [
    "'''\n",
    "banknote authentication using logistic regression\n",
    "\n",
    "Attribute Information:\n",
    "\n",
    "1. variance of Wavelet Transformed image (continuous)\n",
    "2. skewness of Wavelet Transformed image (continuous)\n",
    "3. curtosis of Wavelet Transformed image (continuous)\n",
    "4. entropy of image (continuous)\n",
    "5. class (integer) \n",
    "'''\n",
    "data = pd.DataFrame(pd.read_csv(\"banknote.csv\"))\n",
    "print(data.head())"
   ]
  },
  {
   "cell_type": "code",
   "execution_count": 40,
   "metadata": {},
   "outputs": [
    {
     "name": "stdout",
     "output_type": "stream",
     "text": [
      "training set: \n",
      "\n",
      "x_train: (500, 4)\n",
      "y_train: (500, 1)\n",
      "\n",
      "test set: \n",
      "\n",
      "x_test: (870, 4)\n",
      "y_test: (870, 1)\n"
     ]
    }
   ],
   "source": [
    "# preparing training set\n",
    "X_train = np.array(data)[1:501, 0:4]\n",
    "y_train = np.array(data)[1:501, 4]\n",
    "y_train = y_train.reshape(500, 1)\n",
    "# preparing test set\n",
    "X_test = np.array(data)[502:, 0:4]\n",
    "y_test = np.array(data)[502:, 4]\n",
    "y_test = y_test.reshape(870, 1)\n",
    "\n",
    "# dimensions\n",
    "print(\"training set: \\n\")\n",
    "print(\"x_train: \" + str(X_train.shape))\n",
    "print(\"y_train: \" + str(y_train.shape))\n",
    "print(\"\\ntest set: \\n\")\n",
    "print(\"x_test: \" + str(X_test.shape))\n",
    "print(\"y_test: \" + str(y_test.shape))"
   ]
  },
  {
   "cell_type": "code",
   "execution_count": 70,
   "metadata": {},
   "outputs": [
    {
     "name": "stdout",
     "output_type": "stream",
     "text": [
      "weight shape: (5, 1)\n",
      "X_bias shape:(500, 5)\n"
     ]
    }
   ],
   "source": [
    "# useful variables\n",
    "iter_l = []\n",
    "cost_l = []\n",
    "alpha = 0.001\n",
    "\n",
    "# length of dataset\n",
    "m_train = y_train.size\n",
    "m_test = y_test.size\n",
    "\n",
    "# weights\n",
    "w = np.zeros([5,1], dtype=float)\n",
    "print(\"weight shape: \" + str(w.shape))\n",
    "# adding ones vector in the dataset\n",
    "X_bias = np.append(np.ones([m_train, 1], dtype=float),X_train, axis=1)\n",
    "print(\"X_bias shape:\" + str(X_bias.shape))"
   ]
  },
  {
   "cell_type": "code",
   "execution_count": 69,
   "metadata": {},
   "outputs": [],
   "source": [
    "# gradient descent\n",
    "for i in range(1000):\n",
    "    h = sigmoid(np.dot(X_bias, w))\n",
    "    w = w - (1/m_train)"
   ]
  },
  {
   "cell_type": "code",
   "execution_count": null,
   "metadata": {},
   "outputs": [],
   "source": []
  }
 ],
 "metadata": {
  "kernelspec": {
   "display_name": "Python 3",
   "language": "python",
   "name": "python3"
  },
  "language_info": {
   "codemirror_mode": {
    "name": "ipython",
    "version": 3
   },
   "file_extension": ".py",
   "mimetype": "text/x-python",
   "name": "python",
   "nbconvert_exporter": "python",
   "pygments_lexer": "ipython3",
   "version": "3.6.3"
  }
 },
 "nbformat": 4,
 "nbformat_minor": 2
}
