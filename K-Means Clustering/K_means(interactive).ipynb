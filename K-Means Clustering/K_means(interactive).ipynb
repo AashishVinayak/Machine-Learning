{
  "nbformat": 4,
  "nbformat_minor": 0,
  "metadata": {
    "colab": {
      "name": "K-means(interactive).ipynb",
      "provenance": []
    },
    "kernelspec": {
      "name": "python3",
      "display_name": "Python 3"
    }
  },
  "cells": [
    {
      "cell_type": "code",
      "metadata": {
        "id": "pEHkogTIP8xB",
        "colab_type": "code",
        "colab": {}
      },
      "source": [
        "!wget https://github.com/aashishksahu/Machine-Learning/blob/master/K-Means%20Clustering/kmeans_data.mat?raw=true"
      ],
      "execution_count": 0,
      "outputs": []
    },
    {
      "cell_type": "code",
      "metadata": {
        "id": "N7M9CtqVP_p7",
        "colab_type": "code",
        "colab": {}
      },
      "source": [
        "import numpy as np\n",
        "import matplotlib.pyplot as plt\n",
        "import scipy.io as sc"
      ],
      "execution_count": 0,
      "outputs": []
    },
    {
      "cell_type": "code",
      "metadata": {
        "id": "Cu7JeeDYQGE0",
        "colab_type": "code",
        "colab": {}
      },
      "source": [
        "# rename the file\n",
        "!mv kmeans_data.mat?raw=true data.mat"
      ],
      "execution_count": 0,
      "outputs": []
    },
    {
      "cell_type": "code",
      "metadata": {
        "id": "qFqxvMStQTAI",
        "colab_type": "code",
        "colab": {
          "base_uri": "https://localhost:8080/",
          "height": 35
        },
        "outputId": "551f9c98-c999-4b2b-e8c2-3b5cbb17e9c4"
      },
      "source": [
        "!ls"
      ],
      "execution_count": 4,
      "outputs": [
        {
          "output_type": "stream",
          "text": [
            "data.mat  sample_data\n"
          ],
          "name": "stdout"
        }
      ]
    },
    {
      "cell_type": "code",
      "metadata": {
        "id": "g4Wboan0QYF8",
        "colab_type": "code",
        "colab": {}
      },
      "source": [
        "# dataset is a matlab file opened using scipy.io.loadmat\n",
        "# loading data\n",
        "file = sc.loadmat(\"data.mat\")\n",
        "# data holds the datset of dimensions 50 x 2\n",
        "data = np.array(file['X'])"
      ],
      "execution_count": 0,
      "outputs": []
    },
    {
      "cell_type": "code",
      "metadata": {
        "id": "wEKTGH9OQ8xT",
        "colab_type": "code",
        "colab": {}
      },
      "source": [
        "# initialising values\n",
        "# m is the length of the dataset\n",
        "m = np.size(data[:, 0])\n",
        "# initialising 3 centroids in the numpy array centroid of shape 3 x 2\n",
        "centroid = np.array([1,2,5,4,6,7]).reshape(3,2)\n",
        "# mindist will be used to store the distance of a data point x(i) from all the 3 centroids\n",
        "mindist = np.zeros([3, 1], dtype=float)\n",
        "# minindex will be used to store the index of the minimum value in the array mindist\n",
        "minindex = np.zeros([m, 1], dtype=float)\n",
        "# cluster_sum holds the sum of all the datapoints with same cluster\n",
        "cluster_sum = np.zeros([3, 2], dtype=float)\n",
        "# counter counts the number of datapoints assigned to a cluster\n",
        "counter = np.zeros([3, 1], dtype=float)"
      ],
      "execution_count": 0,
      "outputs": []
    },
    {
      "cell_type": "code",
      "metadata": {
        "id": "rhj07Al7Q9n0",
        "colab_type": "code",
        "colab": {
          "base_uri": "https://localhost:8080/",
          "height": 269
        },
        "outputId": "f02ac230-e8c9-4133-cb45-eef1a2330a66"
      },
      "source": [
        "# data points\n",
        "plt.plot(data[:, 0], data[:,1], 'xg')\n",
        "# centroids\n",
        "plt.plot(centroid[:, 0], centroid[:, 1], 'ob')\n",
        "plt.show()"
      ],
      "execution_count": 7,
      "outputs": [
        {
          "output_type": "display_data",
          "data": {
            "image/png": "[encoded data removed]",
            "text/plain": [
              "<Figure size 432x288 with 1 Axes>"
            ]
          },
          "metadata": {
            "tags": []
          }
        }
      ]
    },
    {
      "cell_type": "code",
      "metadata": {
        "id": "AAOc2xoFRM6H",
        "colab_type": "code",
        "colab": {
          "base_uri": "https://localhost:8080/",
          "height": 1000
        },
        "outputId": "08c02f81-a950-4850-8189-153525b56ae6"
      },
      "source": [
        "# process starts from here\n",
        "# for 1000 training iterations\n",
        "for iter in range(1000):\n",
        "    # >>cluster assignment step\n",
        "    # for all training samples\n",
        "    for i in range(m):\n",
        "        # and all the centroids\n",
        "        for k in range(3):\n",
        "            # calculate the euclidean distance between each centroid and each training sample \n",
        "            mindist[k] = (np.sqrt((data[i, 0] - centroid[k, 0])**2 + (data[i, 1] - centroid[k, 1])**2))\n",
        "        # and save index of the minimum distance between the centroid and the training sample \n",
        "        minindex[i] = (np.argmin(mindist, axis=0)[0])\n",
        "    \n",
        "    # >> centroid update step\n",
        "    # for all training samples\n",
        "    for i in range(m):\n",
        "        # and all the centroids\n",
        "        for k in range(3):\n",
        "            # if index of the minimum distance is equal to k, then, add the datapoints of the same\n",
        "            # cluster together\n",
        "            if minindex[i] == k:\n",
        "                # cluster_sum is of shape [3,1], for each data point that belongs to the kth cluster, \n",
        "                # the sum is calculated \n",
        "                # in simple words, data points belonging to one of the k clusters are added for \n",
        "                # calculating the average\n",
        "                cluster_sum[k] += data[i]\n",
        "                # counting the number of data points belonging to each cluster \n",
        "                counter[k] += 1\n",
        "\n",
        "    # taking average\n",
        "    for k in range(3):\n",
        "        # taking the average of the data points beloning to the same cluster and assigning the mean to \n",
        "        # the centroids\n",
        "        centroid[k, :] = (1/counter[k]) * cluster_sum[k, :]\n",
        "        \n",
        "    if iter%200==0:\n",
        "        # plotting all the clusters\n",
        "        # x is data\n",
        "        plt.plot(data[np.where(minindex == 0), 0], data[np.where(minindex == 0), 1], 'xr')\n",
        "        plt.plot(data[np.where(minindex == 1), 0], data[np.where(minindex == 1), 1], 'xg')\n",
        "        plt.plot(data[np.where(minindex == 2), 0], data[np.where(minindex == 2), 1], 'xb')\n",
        "        # o is centroids\n",
        "        plt.plot(centroid[:, 0], centroid[:, 1], 'om')\n",
        "        plt.show()"
      ],
      "execution_count": 8,
      "outputs": [
        {
          "output_type": "display_data",
          "data": {
            "image/png": "[encoded data removed]",
            "text/plain": [
              "<Figure size 432x288 with 1 Axes>"
            ]
          },
          "metadata": {
            "tags": []
          }
        },
        {
          "output_type": "display_data",
          "data": {
            "image/png": "[encoded data removed]",
            "text/plain": [
              "<Figure size 432x288 with 1 Axes>"
            ]
          },
          "metadata": {
            "tags": []
          }
        },
        {
          "output_type": "display_data",
          "data": {
            "image/png": "[encoded data removed]",
            "text/plain": [
              "<Figure size 432x288 with 1 Axes>"
            ]
          },
          "metadata": {
            "tags": []
          }
        },
        {
          "output_type": "display_data",
          "data": {
            "image/png": "[encoded data removed]",
            "text/plain": [
              "<Figure size 432x288 with 1 Axes>"
            ]
          },
          "metadata": {
            "tags": []
          }
        },
        {
          "output_type": "display_data",
          "data": {
            "image/png": "[encoded data removed]",
            "text/plain": [
              "<Figure size 432x288 with 1 Axes>"
            ]
          },
          "metadata": {
            "tags": []
          }
        }
      ]
    }
  ]
}