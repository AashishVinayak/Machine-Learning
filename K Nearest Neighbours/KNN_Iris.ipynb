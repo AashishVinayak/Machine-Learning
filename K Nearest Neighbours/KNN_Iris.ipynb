{
 "cells": [
  {
   "cell_type": "code",
   "execution_count": 1,
   "metadata": {},
   "outputs": [],
   "source": [
    "%config IPCompleter.greedy=True"
   ]
  },
  {
   "cell_type": "code",
   "execution_count": 2,
   "metadata": {},
   "outputs": [],
   "source": [
    "import numpy as np\n",
    "import pandas as pd\n",
    "import matplotlib.pyplot as plt\n",
    "import operator\n",
    "from collections import Counter"
   ]
  },
  {
   "cell_type": "code",
   "execution_count": 3,
   "metadata": {
    "scrolled": true
   },
   "outputs": [
    {
     "name": "stdout",
     "output_type": "stream",
     "text": [
      "data size:  (150, 5)\n"
     ]
    },
    {
     "data": {
      "text/html": [
       "<div>\n",
       "<style scoped>\n",
       "    .dataframe tbody tr th:only-of-type {\n",
       "        vertical-align: middle;\n",
       "    }\n",
       "\n",
       "    .dataframe tbody tr th {\n",
       "        vertical-align: top;\n",
       "    }\n",
       "\n",
       "    .dataframe thead th {\n",
       "        text-align: right;\n",
       "    }\n",
       "</style>\n",
       "<table border=\"1\" class=\"dataframe\">\n",
       "  <thead>\n",
       "    <tr style=\"text-align: right;\">\n",
       "      <th></th>\n",
       "      <th>s_length</th>\n",
       "      <th>s_width</th>\n",
       "      <th>p_length</th>\n",
       "      <th>p_width</th>\n",
       "      <th>class</th>\n",
       "    </tr>\n",
       "  </thead>\n",
       "  <tbody>\n",
       "    <tr>\n",
       "      <th>35</th>\n",
       "      <td>5.0</td>\n",
       "      <td>3.2</td>\n",
       "      <td>1.2</td>\n",
       "      <td>0.2</td>\n",
       "      <td>Iris-setosa</td>\n",
       "    </tr>\n",
       "    <tr>\n",
       "      <th>5</th>\n",
       "      <td>5.4</td>\n",
       "      <td>3.9</td>\n",
       "      <td>1.7</td>\n",
       "      <td>0.4</td>\n",
       "      <td>Iris-setosa</td>\n",
       "    </tr>\n",
       "    <tr>\n",
       "      <th>21</th>\n",
       "      <td>5.1</td>\n",
       "      <td>3.7</td>\n",
       "      <td>1.5</td>\n",
       "      <td>0.4</td>\n",
       "      <td>Iris-setosa</td>\n",
       "    </tr>\n",
       "    <tr>\n",
       "      <th>47</th>\n",
       "      <td>4.6</td>\n",
       "      <td>3.2</td>\n",
       "      <td>1.4</td>\n",
       "      <td>0.2</td>\n",
       "      <td>Iris-setosa</td>\n",
       "    </tr>\n",
       "    <tr>\n",
       "      <th>1</th>\n",
       "      <td>4.9</td>\n",
       "      <td>3.0</td>\n",
       "      <td>1.4</td>\n",
       "      <td>0.2</td>\n",
       "      <td>Iris-setosa</td>\n",
       "    </tr>\n",
       "  </tbody>\n",
       "</table>\n",
       "</div>"
      ],
      "text/plain": [
       "    s_length  s_width  p_length  p_width        class\n",
       "35       5.0      3.2       1.2      0.2  Iris-setosa\n",
       "5        5.4      3.9       1.7      0.4  Iris-setosa\n",
       "21       5.1      3.7       1.5      0.4  Iris-setosa\n",
       "47       4.6      3.2       1.4      0.2  Iris-setosa\n",
       "1        4.9      3.0       1.4      0.2  Iris-setosa"
      ]
     },
     "execution_count": 3,
     "metadata": {},
     "output_type": "execute_result"
    }
   ],
   "source": [
    "# load dataset\n",
    "# yes, the good old iris dataset\n",
    "# just using this one to understand KNN\n",
    "# larger datasets are not being used since KNN complexity will be very high \n",
    "# due to a large number of Euclidean distance calculations\n",
    "data = pd.DataFrame(pd.read_csv(\"iris.csv\"))\n",
    "print(\"data size: \", data.shape)\n",
    "# shuffle\n",
    "data = data.sample(frac=1)\n",
    "data.head()"
   ]
  },
  {
   "cell_type": "code",
   "execution_count": 4,
   "metadata": {},
   "outputs": [],
   "source": [
    "# using sepal length and width for two classes\n",
    "inputs = np.array(data)[:, 0:2].astype(float)\n",
    "# length of the entire dataset\n",
    "m = np.size(inputs[:, 0])\n",
    "\n",
    "# target vector\n",
    "labels = np.zeros([m, 1], dtype = float)\n",
    "for i, d in enumerate(data['class']):\n",
    "    if d == 'Iris-setosa':\n",
    "        labels[i, 0] = 0\n",
    "    elif d == 'Iris-versicolor':\n",
    "        labels[i, 0] = 1\n",
    "    else:\n",
    "        labels[i, 0] = 2    "
   ]
  },
  {
   "cell_type": "code",
   "execution_count": 5,
   "metadata": {},
   "outputs": [
    {
     "name": "stdout",
     "output_type": "stream",
     "text": [
      "training inputs:  (120, 2)\n",
      "training labels:  (120, 1)\n",
      "testing inputs :  (30, 2)\n",
      "testing inputs :  (30, 1)\n"
     ]
    }
   ],
   "source": [
    "# train test split\n",
    "train_inputs = inputs[0:120, :]\n",
    "train_labels = labels[0:120, :]\n",
    "\n",
    "test_inputs = inputs[120:, :]\n",
    "test_labels = labels[120:, :]\n",
    "\n",
    "print(\"training inputs: \", train_inputs.shape)\n",
    "print(\"training labels: \", train_labels.shape)\n",
    "print(\"testing inputs : \", test_inputs.shape)\n",
    "print(\"testing inputs : \", test_labels.shape)"
   ]
  },
  {
   "cell_type": "code",
   "execution_count": 6,
   "metadata": {},
   "outputs": [
    {
     "data": {
      "image/png": "[encoded data removed]",
      "text/plain": [
       "<Figure size 432x288 with 1 Axes>"
      ]
     },
     "metadata": {
      "needs_background": "light"
     },
     "output_type": "display_data"
    },
    {
     "name": "stdout",
     "output_type": "stream",
     "text": [
      "\n"
     ]
    }
   ],
   "source": [
    "# visualising\n",
    "plt.plot(inputs[np.where(labels == 1), 0], inputs[np.where(labels == 1), 1], 'xr')\n",
    "plt.plot(inputs[np.where(labels == 0), 0], inputs[np.where(labels == 0), 1], 'xb')\n",
    "plt.plot(inputs[np.where(labels == 2), 0], inputs[np.where(labels == 2), 1], 'xg')\n",
    "plt.xlabel(\"Sepal Length\")\n",
    "plt.ylabel(\"Sepal width\")\n",
    "plt.show()\n",
    "print()"
   ]
  },
  {
   "cell_type": "code",
   "execution_count": 7,
   "metadata": {},
   "outputs": [],
   "source": [
    "# K-nearest neighbor algorithm\n",
    "\n",
    "class KNN:\n",
    "    def __init__(self, k, input_val, target_class):\n",
    "        \"\"\"\n",
    "        initialise knn classifier\n",
    "        k: k nearest values\n",
    "        input_val: values of sepal width and length\n",
    "        target_class: target class\n",
    "        \"\"\"\n",
    "        \n",
    "        self.k = k\n",
    "        self.input_val = input_val\n",
    "        self.target_class = target_class\n",
    "        \n",
    "        \n",
    "    def euclidean(self, point1, point2):\n",
    "        \"\"\" returns the euclidean distance between two points\n",
    "        \n",
    "        point1 and point2 are points for which Euclidean distance \n",
    "        is to be calculated\n",
    "        \n",
    "        \"\"\"\n",
    "        # reshape (2,) to (2,1)\n",
    "        point2 = point2.reshape((len(point2), 1))\n",
    "        \n",
    "        one = np.square(point1[0,0] - point2[0,0])\n",
    "        two = np.square(point1[1,0] - point2[1,0])\n",
    "        \n",
    "        return np.sqrt(one+two)\n",
    "        \n",
    "        \n",
    "    def classifier(self, sample):\n",
    "        \"\"\" Function implements K nearest neighbour algorithm\n",
    "            \n",
    "            sample: unknown value to classified\n",
    "        \"\"\"\n",
    "        \n",
    "        # dictionary {int value:label name}\n",
    "        label_map = {0.: 'Iris-setosa', \n",
    "                     1.0: 'Iris-versicolor',\n",
    "                     2.0: 'Iris-virginica'}\n",
    "\n",
    "        # step 1: load sample\n",
    "        # check if sample dimensions are correct\n",
    "        # reshape to correct dimension\n",
    "        if sample.size == 2:\n",
    "            if sample.shape != (2,0):\n",
    "                sample = sample.reshape((2,1))\n",
    "        else:\n",
    "            print(\"invalid sample!\")\n",
    "            return\n",
    "                \n",
    "        # step 2: take Euclidean distance of every point in the inputs\n",
    "        # with the sample point\n",
    "        \n",
    "        euc = {i:self.euclidean(sample, point) for i,point in enumerate(self.input_val)}\n",
    "        \n",
    "        # step 2: sort the dictionary of Euclidean distances and \n",
    "        # take indices of k smallest distances\n",
    "        sort_dist = sorted(euc.items(), key=operator.itemgetter(1))\n",
    "        \n",
    "        min_index = []\n",
    "        # for k minimum distances\n",
    "        for i in range(self.k):\n",
    "            # append index of k minimum distances \n",
    "            min_index.append(sort_dist[i][0])\n",
    "        \n",
    "        # step 3: get the labels at those indices\n",
    "        target = labels[min_index]\n",
    "        # get the count of the unique labels\n",
    "        val, count = np.unique(target, return_counts = True)\n",
    "        # make a dictionary {label:count}\n",
    "        val_count_pair = {i:j for i,j in zip(val,count)}\n",
    "        \n",
    "        # step 4: return the label with maximum count\n",
    "        max_count_label = max(val_count_pair)\n",
    "        \n",
    "        # return the name of the class for the class label\n",
    "        # by looking it up in the label_map dictionary\n",
    "        return label_map[max_count_label]"
   ]
  },
  {
   "cell_type": "code",
   "execution_count": 8,
   "metadata": {},
   "outputs": [],
   "source": [
    "# predicting on known values\n",
    "known_value_prediction = KNN(3, train_inputs, train_labels)\n",
    "train_pred = []\n",
    "for i in train_inputs:\n",
    "    train_pred.append(known_value_prediction.classifier(np.array(i)))\n",
    "    \n",
    "# predicting on unknown values by providing unknown samples from test set\n",
    "# and the entire dataset in the object\n",
    "unknown_value_prediction = KNN(4, inputs, labels)\n",
    "test_pred = []\n",
    "for i in test_inputs:\n",
    "    test_pred.append(unknown_value_prediction.classifier(np.array(i)))\n"
   ]
  },
  {
   "cell_type": "code",
   "execution_count": 9,
   "metadata": {},
   "outputs": [],
   "source": [
    "# checking accuracy for train and test set\n",
    "train_true_count = len(np.where(train_pred == data['class'][0:120])[0])\n",
    "train_acc = train_true_count/len(train_inputs)\n",
    "\n",
    "test_true_count = len(np.where(test_pred == data['class'][120:])[0])\n",
    "test_acc = test_true_count/len(test_inputs)\n"
   ]
  },
  {
   "cell_type": "code",
   "execution_count": 10,
   "metadata": {},
   "outputs": [
    {
     "name": "stdout",
     "output_type": "stream",
     "text": [
      "Train set Accuracy :  83.33333333333334 %\n",
      "Test set Accuracy  :  73.33333333333333 %\n"
     ]
    }
   ],
   "source": [
    "print(\"Train set Accuracy : \", train_acc*100,\"%\")\n",
    "print(\"Test set Accuracy  : \", test_acc*100,\"%\")"
   ]
  }
 ],
 "metadata": {
  "kernelspec": {
   "display_name": "Python 3",
   "language": "python",
   "name": "python3"
  },
  "language_info": {
   "codemirror_mode": {
    "name": "ipython",
    "version": 3
   },
   "file_extension": ".py",
   "mimetype": "text/x-python",
   "name": "python",
   "nbconvert_exporter": "python",
   "pygments_lexer": "ipython3",
   "version": "3.7.3"
  }
 },
 "nbformat": 4,
 "nbformat_minor": 2
}
