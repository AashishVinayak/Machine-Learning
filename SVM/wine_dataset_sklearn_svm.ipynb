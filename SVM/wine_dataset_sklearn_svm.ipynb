{
 "cells": [
  {
   "cell_type": "code",
   "execution_count": 57,
   "metadata": {},
   "outputs": [],
   "source": [
    "import numpy as np\n",
    "from sklearn.datasets import load_wine\n",
    "from sklearn.svm import SVC\n",
    "from sklearn.model_selection import train_test_split\n",
    "from sklearn.metrics import accuracy_score\n",
    "from sklearn.grid_search import GridSearchCV\n",
    "import pandas as pd"
   ]
  },
  {
   "cell_type": "code",
   "execution_count": 58,
   "metadata": {},
   "outputs": [
    {
     "name": "stdout",
     "output_type": "stream",
     "text": [
      "training set:-\n",
      "training data: (124, 13)\n",
      "target: (124,)\n",
      "\n",
      "test set:-\n",
      "test set size: (54, 13)\n",
      "test set label size: (54,)\n"
     ]
    }
   ],
   "source": [
    "# laoding scikit learn's diabetes dataset\n",
    "dataset = load_wine()\n",
    "'''\n",
    "These data are the results of a chemical analysis of wines grown in the same region in Italy \n",
    "but derived from three different cultivars.\n",
    "The analysis determined the quantities of 13 constituents found in each of the three types of \n",
    "wines.\n",
    "\n",
    "The attributes are:-\n",
    "1) Alcohol\n",
    "2) Malic acid\n",
    "3) Ash\n",
    "4) Alcalinity of ash\n",
    "5) Magnesium\n",
    "6) Total phenols\n",
    "7) Flavanoids\n",
    "8) Nonflavanoid phenols\n",
    "9) Proanthocyanins\n",
    "10)Color intensity\n",
    "11)Hue\n",
    "12)OD280/OD315 of diluted wines\n",
    "13)Proline\n",
    "'''\n",
    "# training data\n",
    "x = np.array(dataset.data)\n",
    "# label\n",
    "\n",
    "y = np.array(dataset.target)\n",
    "\n",
    "# creating training and test set\n",
    "x_train, x_t, y_train, y_t = train_test_split(x, y, test_size=0.3)\n",
    "length_test = y_t.size\n",
    "print(\"training set:-\")\n",
    "print(\"training data: \" + str(x_train.shape))\n",
    "print(\"target: \" + str(y_train.shape))\n",
    "\n",
    "print(\"\\ntest set:-\")\n",
    "print(\"test set size: \" + str(x_t.shape))\n",
    "print(\"test set label size: \" + str(y_t.shape))"
   ]
  },
  {
   "cell_type": "code",
   "execution_count": 59,
   "metadata": {
    "scrolled": true
   },
   "outputs": [],
   "source": [
    "# training the data using scikit learn svm classifier\n",
    "\n",
    "# a dictionary of various penalty units 'C' and linear kernel\n",
    "params = {'C': [0.001,0.01,0.1,1,10,100,1000], 'kernel':['linear']}\n",
    "# parameter tuning using GridSearchCV\n",
    "model = GridSearchCV(SVC(class_weight=\"balanced\"), params)\n",
    "# fitting the training data\n",
    "model.fit(x_train, y_train)\n",
    "# preditctions on test set\n",
    "prediction = model.predict(x_t)"
   ]
  },
  {
   "cell_type": "code",
   "execution_count": 60,
   "metadata": {},
   "outputs": [
    {
     "name": "stdout",
     "output_type": "stream",
     "text": [
      "accuracy = 96.2962962963%\n"
     ]
    }
   ],
   "source": [
    "# metrics\n",
    "accuracy = accuracy_score(prediction, y_t)\n",
    "print(\"accuracy = \" + str(accuracy*100) + \"%\")"
   ]
  }
 ],
 "metadata": {
  "kernelspec": {
   "display_name": "Python 3",
   "language": "python",
   "name": "python3"
  },
  "language_info": {
   "codemirror_mode": {
    "name": "ipython",
    "version": 3
   },
   "file_extension": ".py",
   "mimetype": "text/x-python",
   "name": "python",
   "nbconvert_exporter": "python",
   "pygments_lexer": "ipython3",
   "version": "3.6.3"
  }
 },
 "nbformat": 4,
 "nbformat_minor": 2
}
