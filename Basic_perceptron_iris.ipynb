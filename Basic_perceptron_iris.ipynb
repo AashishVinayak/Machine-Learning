{
 "cells": [
  {
   "cell_type": "code",
   "execution_count": 100,
   "metadata": {},
   "outputs": [],
   "source": [
    "import numpy as np\n",
    "import pandas as pd\n",
    "import matplotlib.pyplot as plt"
   ]
  },
  {
   "cell_type": "code",
   "execution_count": 101,
   "metadata": {},
   "outputs": [],
   "source": [
    "def sigmoid(z):\n",
    "    return 1/(1 + np.exp(-z))"
   ]
  },
  {
   "cell_type": "code",
   "execution_count": 102,
   "metadata": {},
   "outputs": [
    {
     "name": "stdout",
     "output_type": "stream",
     "text": [
      "   sepal length  sepal width  petal length  petal width            class\n",
      "0           5.1          3.4           1.5          0.2      Iris-setosa\n",
      "1           4.6          3.4           1.4          0.3      Iris-setosa\n",
      "2           5.7          2.9           4.2          1.3  Iris-versicolor\n",
      "3           5.1          3.3           1.7          0.5      Iris-setosa\n",
      "4           5.8          2.7           3.9          1.2  Iris-versicolor\n"
     ]
    }
   ],
   "source": [
    "# importing the iris dataset\n",
    "data = pd.DataFrame(pd.read_csv(\"iris.csv\"))\n",
    "data = data.sample(frac=1).reset_index(drop=True)\n",
    "print(data.head())"
   ]
  },
  {
   "cell_type": "code",
   "execution_count": 103,
   "metadata": {
    "scrolled": false
   },
   "outputs": [],
   "source": [
    "# numpy matrix formation\n",
    "X = np.array(data)[:, 0:2].astype(float)\n",
    "m = np.size(X[:, 0])\n",
    "\n",
    "# target vector\n",
    "y = np.zeros([m, 1], dtype = float)\n",
    "for i, d in enumerate(data['class']):\n",
    "    if d == 'Iris-setosa':\n",
    "        y[i, 0] = 1\n",
    "    else:\n",
    "        y[i, 0] = 0"
   ]
  },
  {
   "cell_type": "code",
   "execution_count": 104,
   "metadata": {},
   "outputs": [
    {
     "data": {
      "image/png": "[encoded data removed]",
      "text/plain": [
       "<matplotlib.figure.Figure at 0x1e6155cd7f0>"
      ]
     },
     "metadata": {},
     "output_type": "display_data"
    }
   ],
   "source": [
    "# visualising\n",
    "plt.plot(X[np.where(y == 1), 0], X[np.where(y == 1), 1], 'or')\n",
    "plt.plot(X[np.where(y == 0), 0], X[np.where(y == 0), 1], 'ob')\n",
    "plt.xlabel(\"Sepal Length\")\n",
    "plt.ylabel(\"Sepal width\")\n",
    "plt.show()"
   ]
  },
  {
   "cell_type": "code",
   "execution_count": 105,
   "metadata": {},
   "outputs": [
    {
     "name": "stdout",
     "output_type": "stream",
     "text": [
      "w1:\n",
      "[[ 0.  0.]\n",
      " [ 0.  0.]\n",
      " [ 0.  0.]]\n",
      "\n",
      "w2:\n",
      "[[ 0.]\n",
      " [ 0.]\n",
      " [ 0.]]\n"
     ]
    }
   ],
   "source": [
    "# initialising weight matrix and bias for layer 1\n",
    "w1 = np.zeros([3, 2], dtype=float)\n",
    "b1 = 0\n",
    "# initialising weight matrix and bias for layer 2\n",
    "w2 = np.zeros([3, 1], dtype=float)\n",
    "b2 = 0\n",
    "\n",
    "print(\"w1:\\n\" + str(w1))\n",
    "print(\"\\nw2:\\n\" + str(w2))"
   ]
  },
  {
   "cell_type": "code",
   "execution_count": 106,
   "metadata": {},
   "outputs": [],
   "source": [
    "# activation layer\n",
    "a1 = np.zeros([3,1], dtype=float)\n",
    "\n",
    "# The Real Deal is here\n",
    "for Iter in range(1000):\n",
    "    # forward pass\n",
    "    z1 = np.dot(X, w1.T) + b1\n",
    "    a1 = sigmoid(z1)\n",
    "    z2 = np.dot(a1, w2) + b2\n",
    "    a2 = sigmoid(z2)"
   ]
  }
 ],
 "metadata": {
  "kernelspec": {
   "display_name": "Python 3",
   "language": "python",
   "name": "python3"
  },
  "language_info": {
   "codemirror_mode": {
    "name": "ipython",
    "version": 3
   },
   "file_extension": ".py",
   "mimetype": "text/x-python",
   "name": "python",
   "nbconvert_exporter": "python",
   "pygments_lexer": "ipython3",
   "version": "3.6.3"
  }
 },
 "nbformat": 4,
 "nbformat_minor": 2
}
